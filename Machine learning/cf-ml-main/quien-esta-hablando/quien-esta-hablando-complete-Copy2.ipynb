{
 "cells": [
  {
   "cell_type": "markdown",
   "metadata": {
    "id": "zfIMmc8OCW7U"
   },
   "source": [
    "# ¿Quién está hablando? – Político vs Médico"
   ]
  },
  {
   "cell_type": "markdown",
   "metadata": {
    "id": "JvlJTK9lCW7Z"
   },
   "source": [
    "## Nuestro problema"
   ]
  },
  {
   "cell_type": "markdown",
   "metadata": {
    "id": "FKCVPCQfCW7Z"
   },
   "source": [
    "Vamos a estar trabajando con un dataset que hice yo mismo a partir de mi [dataset de las conferencias de prensa mañaneras del presidente de México](https://www.kaggle.com/ioexception/mananeras) (ve cómo es que cree este dataset en [este notebook](https://www.kaggle.com/ioexception/extraer-di-logos-de-amlo-y-l-pez-gatell)), contiene diálogos emitidos por el presidente de México (*politico*) y el sub-secretario de salud, Hugo López-Gatell (*medico*).\n",
    "\n",
    "Piensa que tienes un cientos de miles de documentos que contienen diálogos transcripciones de entrevistas (llevadas a cabo en persona, por teléfono y por escrito), pero estas no están etiquetadas con los interlocutores, tu tarea es tratar de identificar quiénes son las personas que están interactuando en ellas.\n",
    "\n",
    "**La tarea que tenemos que lograr el día de hoy es identificar a la persona que está hablando a partir de las palabras que dijo.**\n",
    "\n",
    "Durante este ejercicio les hablaré un poquito más del dataset y su relación con lo que vimos en el curso de introducción al aprendizaje automático disponible bajo demanda aquí en esta misma plataforma.\n",
    "\n",
    "Puedes ver los paquetes que vamos a usar en el archivo `Pipfile`, estos están listados en la sección de dependencias.\n",
    "\n",
    "(Agruparé las dependencias en una sola celda para preservar un poco de orden, sin embargo mencionaré en dónde las podemos ocupar más adelante)"
   ]
  },
  {
   "cell_type": "code",
   "execution_count": 1,
   "metadata": {
    "id": "-EiEJ-qPCW7Z"
   },
   "outputs": [],
   "source": [
    "import string\n",
    "\n",
    "import numpy as np\n",
    "import pandas as pd\n",
    "import seaborn as sns\n",
    "import matplotlib.pyplot as plt\n",
    "import nltk\n",
    "from nltk.corpus import stopwords\n",
    "from unidecode import unidecode"
   ]
  },
  {
   "cell_type": "code",
   "execution_count": 2,
   "metadata": {
    "colab": {
     "base_uri": "https://localhost:8080/"
    },
    "id": "WHL4v5HMDzL4",
    "outputId": "2466f78d-9edb-4d92-c1e6-3f4dede290da"
   },
   "outputs": [
    {
     "name": "stderr",
     "output_type": "stream",
     "text": [
      "[nltk_data] Downloading package stopwords to /home/diana/nltk_data...\n",
      "[nltk_data]   Package stopwords is already up-to-date!\n"
     ]
    },
    {
     "data": {
      "text/plain": [
       "True"
      ]
     },
     "execution_count": 2,
     "metadata": {},
     "output_type": "execute_result"
    }
   ],
   "source": [
    "# # Descarga información necesaria para el pre-procesamiento\n",
    "nltk.download('stopwords')"
   ]
  },
  {
   "cell_type": "code",
   "execution_count": 3,
   "metadata": {
    "colab": {
     "base_uri": "https://localhost:8080/",
     "height": 204
    },
    "id": "CQ2Irn2JCW7a",
    "outputId": "457c3487-06e4-44bc-a67d-787debd85d66"
   },
   "outputs": [
    {
     "data": {
      "text/html": [
       "<div>\n",
       "<style scoped>\n",
       "    .dataframe tbody tr th:only-of-type {\n",
       "        vertical-align: middle;\n",
       "    }\n",
       "\n",
       "    .dataframe tbody tr th {\n",
       "        vertical-align: top;\n",
       "    }\n",
       "\n",
       "    .dataframe thead th {\n",
       "        text-align: right;\n",
       "    }\n",
       "</style>\n",
       "<table border=\"1\" class=\"dataframe\">\n",
       "  <thead>\n",
       "    <tr style=\"text-align: right;\">\n",
       "      <th></th>\n",
       "      <th>speaker</th>\n",
       "      <th>dialog</th>\n",
       "      <th>length</th>\n",
       "    </tr>\n",
       "  </thead>\n",
       "  <tbody>\n",
       "    <tr>\n",
       "      <th>0</th>\n",
       "      <td>politico</td>\n",
       "      <td>Amigas, amigos, paisanas, paisanos de Palenque:</td>\n",
       "      <td>47</td>\n",
       "    </tr>\n",
       "    <tr>\n",
       "      <th>1</th>\n",
       "      <td>politico</td>\n",
       "      <td>Me da mucho gusto estar de nuevo en trabajos d...</td>\n",
       "      <td>91</td>\n",
       "    </tr>\n",
       "    <tr>\n",
       "      <th>2</th>\n",
       "      <td>politico</td>\n",
       "      <td>Antes de entrar en materia, quiero enviar un s...</td>\n",
       "      <td>471</td>\n",
       "    </tr>\n",
       "    <tr>\n",
       "      <th>3</th>\n",
       "      <td>politico</td>\n",
       "      <td>Di la instrucción de que se mantengan trabajan...</td>\n",
       "      <td>338</td>\n",
       "    </tr>\n",
       "    <tr>\n",
       "      <th>4</th>\n",
       "      <td>politico</td>\n",
       "      <td>Quiero decirles a mis paisanos que padecen, qu...</td>\n",
       "      <td>113</td>\n",
       "    </tr>\n",
       "  </tbody>\n",
       "</table>\n",
       "</div>"
      ],
      "text/plain": [
       "    speaker                                             dialog  length\n",
       "0  politico    Amigas, amigos, paisanas, paisanos de Palenque:      47\n",
       "1  politico  Me da mucho gusto estar de nuevo en trabajos d...      91\n",
       "2  politico  Antes de entrar en materia, quiero enviar un s...     471\n",
       "3  politico  Di la instrucción de que se mantengan trabajan...     338\n",
       "4  politico  Quiero decirles a mis paisanos que padecen, qu...     113"
      ]
     },
     "execution_count": 3,
     "metadata": {},
     "output_type": "execute_result"
    }
   ],
   "source": [
    "dialogs = pd.read_csv(\".datos/dialogos.csv\", index_col=0)\n",
    "dialogs[\"speaker\"] = np.where(dialogs[\"speaker\"] == \"amlo\", \"politico\", \"medico\")\n",
    "dialogs.head()"
   ]
  },
  {
   "cell_type": "markdown",
   "metadata": {
    "id": "zVeoqkPZCW7a"
   },
   "source": [
    "En este caso, la columna *\"speaker\"* es nuestra variable dependiente o la variable objetivo, mientras que *\"dialog\"* juega el papel de la variable independiente. Porque como lo especificamos, vamos a usar los diálogos para predecir al interlocutor.\n",
    "\n",
    " > ❓ ¿Qué tipo de problema estamos atacando?\n",
    "\n",
    "El **tipo de problema** al que nos estamos enfrentando en este caso es el de una **clasificación binaria**, es clasificación porque el resultado del modelo debe ser discreto, es decir un valor de entre un conjunto finito de etiquetas, y es binaria porque este conjunto de posibles etiquetas está formado por dos elementos: *\"amlo\"* y *\"lopez-gatell\"*."
   ]
  },
  {
   "cell_type": "markdown",
   "metadata": {},
   "source": [
    "## Métrica de elección\n",
    "\n",
    "Por el momento nos interesa clasificar correctamente ambos diálogos, no nos interesa tanto enfocarnos en una clase u otra. Por el momento vamos a usar simplemente la **exactitud o *accuracy***. Si nuestro problema fuera otra podríamos enfocarnos en otra métrica.\n",
    "\n",
    " > ❓ Si quisiéramos asegurarnos de que cada vez que decimos que un diálogo pertence a `amlo` estemos seguros de esta decisión, ¿qué métrica usaríamos?"
   ]
  },
  {
   "cell_type": "markdown",
   "metadata": {
    "id": "t_43fo-lCW7a"
   },
   "source": [
    "## EDA – Análisis Exploratorio de Datos"
   ]
  },
  {
   "cell_type": "markdown",
   "metadata": {},
   "source": [
    "### Distribución de etiquetas"
   ]
  },
  {
   "cell_type": "code",
   "execution_count": 4,
   "metadata": {},
   "outputs": [
    {
     "data": {
      "image/png": "[encoded data removed]",
      "text/plain": [
       "<Figure size 600x400 with 1 Axes>"
      ]
     },
     "metadata": {
      "needs_background": "light"
     },
     "output_type": "display_data"
    }
   ],
   "source": [
    "fig = plt.figure(dpi=100)\n",
    "ax = fig.gca()\n",
    "sns.countplot(x='speaker', data=dialogs, ax=ax)\n",
    "ax.set_title(\"Etiquetas\")\n",
    "ax.set_xlabel(\"Speaker\")\n",
    "ax.set_ylabel(\"Cuenta\")\n",
    "\n",
    "percentages = (dialogs[\"speaker\"].value_counts() / len(dialogs)).to_dict()\n",
    "xs = {label.get_text():idx for idx, label in enumerate(ax.get_xticklabels())}\n",
    "for label, pct in percentages.items():\n",
    "#    x = labels[label].get_x()\n",
    "    ax.text(xs[label],9000, f\"{pct:0.2%}\", ha='center', fontsize=\"xx-large\", c=\"white\")\n",
    "    pass"
   ]
  },
  {
   "cell_type": "markdown",
   "metadata": {},
   "source": [
    "### Longitud del texto"
   ]
  },
  {
   "cell_type": "code",
   "execution_count": 5,
   "metadata": {},
   "outputs": [],
   "source": [
    "lengths = dialogs[\"dialog\"].str.len()\n",
    "\n",
    "dialog_lenghts = pd.DataFrame({\n",
    "    \"speaker\": dialogs[\"speaker\"],\n",
    "    \"length\": lengths\n",
    "})"
   ]
  },
  {
   "cell_type": "code",
   "execution_count": 6,
   "metadata": {},
   "outputs": [
    {
     "data": {
      "text/plain": [
       "<AxesSubplot:xlabel='length', ylabel='speaker'>"
      ]
     },
     "execution_count": 6,
     "metadata": {},
     "output_type": "execute_result"
    },
    {
     "data": {
      "image/png": "[encoded data removed]",
      "text/plain": [
       "<Figure size 1000x500 with 2 Axes>"
      ]
     },
     "metadata": {
      "needs_background": "light"
     },
     "output_type": "display_data"
    }
   ],
   "source": [
    "fig, (ax1, ax2) = plt.subplots(2, 1, dpi=100, figsize=(10,5))\n",
    "\n",
    "sns.violinplot(y=\"speaker\" , x=\"length\", data=dialog_lenghts, ax=ax1)\n",
    "sns.boxplot(y=\"speaker\" , x=\"length\", data=dialog_lenghts, ax=ax2)"
   ]
  },
  {
   "cell_type": "code",
   "execution_count": 7,
   "metadata": {},
   "outputs": [
    {
     "data": {
      "text/plain": [
       "<matplotlib.legend.Legend at 0x7fd08837edc0>"
      ]
     },
     "execution_count": 7,
     "metadata": {},
     "output_type": "execute_result"
    },
    {
     "data": {
      "image/png": "[encoded data removed]",
      "text/plain": [
       "<Figure size 1200x300 with 1 Axes>"
      ]
     },
     "metadata": {
      "needs_background": "light"
     },
     "output_type": "display_data"
    }
   ],
   "source": [
    "fig = plt.figure(dpi=100, figsize=(12, 3))\n",
    "ax = fig.gca()\n",
    "\n",
    "\n",
    "for label, color in [(\"politico\", \"blue\"), (\"medico\", \"red\")]:\n",
    "    lengths = dialog_lenghts[dialog_lenghts[\"speaker\"] == label]\n",
    "    values, bins = np.histogram(lengths[\"length\"], range=(0, 1200), bins=50)\n",
    "    y = (bins[1:] + bins[:-1]) / 2\n",
    "    sns.barplot(x=y, y=values/ len(lengths), label=label, color= color, ax=ax, alpha=0.5 )\n",
    "ax.set_xticklabels([f\"{int(_y)}-{int(_x)}\" for _x,_y in zip(bins[1:], bins[:-1])], rotation=90, fontsize=9)\n",
    "ax.set_yticklabels([])\n",
    "ax.set_xlabel(\"Rango\")\n",
    "ax.legend()"
   ]
  },
  {
   "cell_type": "markdown",
   "metadata": {},
   "source": [
    " > 💡 Parece que hay dos distribuciones. ¿Mi intuición me dice que cuando son diálogos cortos, es muy probable que esos diálogos se parezcan? ¿Podríamos tal vez dividir los datos y crear modelos diferentes? "
   ]
  },
  {
   "cell_type": "markdown",
   "metadata": {
    "id": "0L3wSYYsCW7b"
   },
   "source": [
    "## Divide el dataset\n",
    "\n",
    "La primer tarea que tienen que hacer una vez que concluyeron con el análisis exploratorio inicial es dividir su dataset en un conjunto de datos, idealmente en tres conjuntos de datos como ya lo habíamos mencionado antes: uno de entrenamiento, otro de validación y uno de prueba.\n",
    "\n",
    "Para esto vamos a usar `scikit-learn`:"
   ]
  },
  {
   "cell_type": "code",
   "execution_count": 8,
   "metadata": {
    "id": "qLW4lylWCW7b"
   },
   "outputs": [],
   "source": [
    "from sklearn.model_selection import train_test_split"
   ]
  },
  {
   "cell_type": "code",
   "execution_count": 9,
   "metadata": {},
   "outputs": [
    {
     "data": {
      "text/html": [
       "<div>\n",
       "<style scoped>\n",
       "    .dataframe tbody tr th:only-of-type {\n",
       "        vertical-align: middle;\n",
       "    }\n",
       "\n",
       "    .dataframe tbody tr th {\n",
       "        vertical-align: top;\n",
       "    }\n",
       "\n",
       "    .dataframe thead th {\n",
       "        text-align: right;\n",
       "    }\n",
       "</style>\n",
       "<table border=\"1\" class=\"dataframe\">\n",
       "  <thead>\n",
       "    <tr style=\"text-align: right;\">\n",
       "      <th></th>\n",
       "      <th>speaker</th>\n",
       "      <th>dialog</th>\n",
       "      <th>length</th>\n",
       "    </tr>\n",
       "  </thead>\n",
       "  <tbody>\n",
       "    <tr>\n",
       "      <th>0</th>\n",
       "      <td>politico</td>\n",
       "      <td>Amigas, amigos, paisanas, paisanos de Palenque:</td>\n",
       "      <td>47</td>\n",
       "    </tr>\n",
       "    <tr>\n",
       "      <th>1</th>\n",
       "      <td>politico</td>\n",
       "      <td>Me da mucho gusto estar de nuevo en trabajos d...</td>\n",
       "      <td>91</td>\n",
       "    </tr>\n",
       "    <tr>\n",
       "      <th>4</th>\n",
       "      <td>politico</td>\n",
       "      <td>Quiero decirles a mis paisanos que padecen, qu...</td>\n",
       "      <td>113</td>\n",
       "    </tr>\n",
       "    <tr>\n",
       "      <th>5</th>\n",
       "      <td>politico</td>\n",
       "      <td>Ya empezaron a ser atendidos, pero vamos a ayu...</td>\n",
       "      <td>237</td>\n",
       "    </tr>\n",
       "    <tr>\n",
       "      <th>6</th>\n",
       "      <td>politico</td>\n",
       "      <td>También di la instrucción de que se haga un ce...</td>\n",
       "      <td>154</td>\n",
       "    </tr>\n",
       "    <tr>\n",
       "      <th>...</th>\n",
       "      <td>...</td>\n",
       "      <td>...</td>\n",
       "      <td>...</td>\n",
       "    </tr>\n",
       "    <tr>\n",
       "      <th>155502</th>\n",
       "      <td>politico</td>\n",
       "      <td>¡Que viva Francisco I. Madero!</td>\n",
       "      <td>30</td>\n",
       "    </tr>\n",
       "    <tr>\n",
       "      <th>155503</th>\n",
       "      <td>politico</td>\n",
       "      <td>¡Que viva Venustiano Carranza!</td>\n",
       "      <td>30</td>\n",
       "    </tr>\n",
       "    <tr>\n",
       "      <th>155504</th>\n",
       "      <td>politico</td>\n",
       "      <td>¡Viva México!</td>\n",
       "      <td>13</td>\n",
       "    </tr>\n",
       "    <tr>\n",
       "      <th>155505</th>\n",
       "      <td>politico</td>\n",
       "      <td>¡Viva México!</td>\n",
       "      <td>13</td>\n",
       "    </tr>\n",
       "    <tr>\n",
       "      <th>155506</th>\n",
       "      <td>politico</td>\n",
       "      <td>¡Viva México!</td>\n",
       "      <td>13</td>\n",
       "    </tr>\n",
       "  </tbody>\n",
       "</table>\n",
       "<p>85349 rows × 3 columns</p>\n",
       "</div>"
      ],
      "text/plain": [
       "         speaker                                             dialog  length\n",
       "0       politico    Amigas, amigos, paisanas, paisanos de Palenque:      47\n",
       "1       politico  Me da mucho gusto estar de nuevo en trabajos d...      91\n",
       "4       politico  Quiero decirles a mis paisanos que padecen, qu...     113\n",
       "5       politico  Ya empezaron a ser atendidos, pero vamos a ayu...     237\n",
       "6       politico  También di la instrucción de que se haga un ce...     154\n",
       "...          ...                                                ...     ...\n",
       "155502  politico                     ¡Que viva Francisco I. Madero!      30\n",
       "155503  politico                     ¡Que viva Venustiano Carranza!      30\n",
       "155504  politico                                      ¡Viva México!      13\n",
       "155505  politico                                      ¡Viva México!      13\n",
       "155506  politico                                      ¡Viva México!      13\n",
       "\n",
       "[85349 rows x 3 columns]"
      ]
     },
     "execution_count": 9,
     "metadata": {},
     "output_type": "execute_result"
    }
   ],
   "source": [
    "cortos = dialogs[dialogs['length'] <= 240]\n",
    "cortos "
   ]
  },
  {
   "cell_type": "code",
   "execution_count": 10,
   "metadata": {
    "colab": {
     "base_uri": "https://localhost:8080/"
    },
    "id": "C18fEwM5CW7c",
    "outputId": "92001580-88cf-4b3f-ee03-4043ed3294a6"
   },
   "outputs": [
    {
     "data": {
      "text/plain": [
       "(54623, 13656, 17070)"
      ]
     },
     "execution_count": 10,
     "metadata": {},
     "output_type": "execute_result"
    }
   ],
   "source": [
    "rest, test = train_test_split(cortos, test_size=0.2, stratify=cortos[\"speaker\"])\n",
    "train, val = train_test_split(rest, test_size=0.2, stratify=rest[\"speaker\"])\n",
    "len(train), len(val), len(test)"
   ]
  },
  {
   "cell_type": "markdown",
   "metadata": {
    "id": "pPiihM9tCW7c"
   },
   "source": [
    "Es hora de ir separando nuestras variables de salida, el resultado esperado del resto de nuestros datos.\n",
    "\n",
    " > 💡 Debes mantener siempre esta separación porque de otro modo puedes \"contaminar\" tus resultados, incurriendo en un fenómeno conocido como *data leakage*"
   ]
  },
  {
   "cell_type": "code",
   "execution_count": 11,
   "metadata": {
    "id": "WTgmivy8CW7c"
   },
   "outputs": [],
   "source": [
    "dialogs_train = train[\"dialog\"]\n",
    "dialogs_val = val[\"dialog\"]\n",
    "dialogs_test = test[\"dialog\"]\n",
    "\n",
    "target_train = train[\"speaker\"]\n",
    "target_val = val[\"speaker\"]\n",
    "target_test = test[\"speaker\"]"
   ]
  },
  {
   "cell_type": "markdown",
   "metadata": {
    "id": "_ngLGTi6CW7d"
   },
   "source": [
    "## Feature engineering"
   ]
  },
  {
   "cell_type": "markdown",
   "metadata": {
    "id": "eMcb1ETXCW7d"
   },
   "source": [
    "### Etiqueta\n",
    "\n",
    "Nuevamente, los algoritmos de *machine learning* requieren de datos de tipo numérico para trabajar, el primer valor que tenemos que tenemos que transformar es la etiqueta final. Lo que vamos a hacer es transformar estos valores en `1` si se trata de la cadena \"amlo\" y `0` si se trata de \"lopez-gatell\":"
   ]
  },
  {
   "cell_type": "code",
   "execution_count": 12,
   "metadata": {
    "id": "lCX1s4CZCW7d"
   },
   "outputs": [],
   "source": [
    "train_y = np.where(target_train == \"politico\", 1, 0)\n",
    "val_y = np.where(target_val == \"politico\", 1, 0)\n",
    "test_y = np.where(target_test == \"politico\", 1, 0)"
   ]
  },
  {
   "cell_type": "markdown",
   "metadata": {
    "id": "ppXvmKTjCW7d"
   },
   "source": [
    "### Texto\n",
    "\n",
    "Toca ahora comenzar por convertir nuestro texto a algo que un modelo de machine learning comprenda, como les mencioné, los modelos de machine learning funcionan, en su gran mayoría, únicamente con datos de tipo numérico, ya sea flotantes o entero. Y bueno, en nuestro caso tenemos una variable de tipo cadena, nuestro diálogo. Ahora, aquí hay varios caminos que podemos tomar para convertir un texto a números, a este proceso le vamos a conocer como vectorización..."
   ]
  },
  {
   "cell_type": "markdown",
   "metadata": {},
   "source": [
    " > 💡 El análisis de texto y procesamiento de lenguaje natural es un campo por si mismo, este es solo una pequeña introducción al tema"
   ]
  },
  {
   "cell_type": "markdown",
   "metadata": {
    "id": "WMWjVrDOCW7e"
   },
   "source": [
    "#### Limpieza de las cadenas\n",
    "\n",
    "Justo antes de comenzar a tratar de convertir cadenas en números, vamos a echarle un vistazo nuevamente a algunos ejemplos de texto:"
   ]
  },
  {
   "cell_type": "code",
   "execution_count": 13,
   "metadata": {
    "colab": {
     "base_uri": "https://localhost:8080/"
    },
    "id": "Tdqyi_6qCW7e",
    "outputId": "e146c898-41b0-4937-c49a-2238536cfce6"
   },
   "outputs": [
    {
     "data": {
      "text/plain": [
       "array(['¿Por qué este programa de Jóvenes Construyendo el Futuro?',\n",
       "       'Para nosotros lo más importante es la honestidad. Y hay otros factores u otros requisitos, vamos a decir, el que trabajen, porque también pueden ser honestos, pero no trabajan. Se requiere que trabajen y luego que tengan conocimiento.',\n",
       "       '¿Qué pasó?',\n",
       "       'Esta mañana hablaba el presidente de cerca un poquito más de mil municipios, esto se refiere al conjunto de municipios donde ya se ha trabajado la vacunación, estos 775 es donde ya se ha logrado la cobertura de personas adultas mayores.',\n",
       "       'Sí, pero ya manifesté que estamos en contra del feminicidio, estamos haciendo cosas todos los días, todos los días, para garantizar la paz y la tranquilidad.',\n",
       "       'Bueno, pero lo que me da muchísimo gusto, mucha satisfacción, es que la gente está, pero muy consciente, bien avispada.',\n",
       "       'Entonces ¿qué nos queda?',\n",
       "       'Todavía lo estamos analizando porque existen los grandes contribuyentes. No incluiría en esta primera etapa a grandes contribuyentes, estamos hablando de medianos, pequeños y muy pequeños contribuyentes.',\n",
       "       'La compañera.',\n",
       "       'Y ya tomamos también la decisión de ampliar el aeropuerto de Tepic, Nayarit, para ayudar en el transporte hacia Vallarta, en Jalisco, y en las costas del estado de Nayarit.'],\n",
       "      dtype=object)"
      ]
     },
     "execution_count": 13,
     "metadata": {},
     "output_type": "execute_result"
    }
   ],
   "source": [
    "dialogs_train.sample(10, random_state=132).values"
   ]
  },
  {
   "cell_type": "markdown",
   "metadata": {
    "id": "ZOmu50BgCW7e"
   },
   "source": [
    "Escojamos una frase como ejemplo:"
   ]
  },
  {
   "cell_type": "code",
   "execution_count": 19,
   "metadata": {},
   "outputs": [
    {
     "data": {
      "text/plain": [
       "98526     Nosotros estamos muy satisfechos con el comisi...\n",
       "109371    Que aumentaron los intereses en los bonos de P...\n",
       "106747    Y vamos después a Tijuana y concluimos nuestro...\n",
       "65497     Tengo que prepararme, porque es muy probable q...\n",
       "38777     Correcto, con mucho gusto. Muchas gracias, Dan...\n",
       "112065    Gracias, Bianca, por preguntar esto de las var...\n",
       "74757              A ver, empezamos. Decías de los amparos.\n",
       "122898    Y luego fue él secretario de Seguridad con Cal...\n",
       "126434    Acerca del plan para reforzar la seguridad en ...\n",
       "51321     Por eso el IMSS-Bienestar, que desde su fundac...\n",
       "104424    Ya están 500 mil jóvenes inscritos en ese prog...\n",
       "37403     Porque ya no hay condonación de impuestos como...\n",
       "51633     Si les parece, vamos a continuar y luego las p...\n",
       "83679     Pero eso no era todo, se estaba construyendo e...\n",
       "89551     Entonces, si se acaba la corrupción arriba, va...\n",
       "Name: dialog, dtype: object"
      ]
     },
     "execution_count": 19,
     "metadata": {},
     "output_type": "execute_result"
    }
   ],
   "source": [
    "dialogs_train.sample(15)"
   ]
  },
  {
   "cell_type": "code",
   "execution_count": 20,
   "metadata": {
    "colab": {
     "base_uri": "https://localhost:8080/"
    },
    "id": "FqQhI8GiCW7e",
    "outputId": "2c8567c6-3393-4853-dac0-952f0d9832b7"
   },
   "outputs": [
    {
     "name": "stdout",
     "output_type": "stream",
     "text": [
      "Así como me encuentro, uno, dos, tres, que me hacen muecas, me encuentro muchos que me dicen: ‘Adelante, estamos con usted’, y me desean lo mejor y bendiciones, y todo, pero muchísimas. Entonces, imagínense cómo no voy a estar al 100.\n"
     ]
    }
   ],
   "source": [
    "example_sentence = dialogs_train.iloc[51321]\n",
    "print(example_sentence)"
   ]
  },
  {
   "cell_type": "markdown",
   "metadata": {
    "id": "CfLWWd9xCW7e"
   },
   "source": [
    "#### Tokenización\n",
    "\n",
    "Para comenzar con la vectorización vamos a separar cada una de nuestras oraciones en *tokens*, un *token* no necesariamente es una palabra como la conocemos en español, un token puede ser parte de una palabra, puede ser un par de palabras combinadas o inclusive un símbolo de puntuación.\n",
    "\n",
    "Podríamos hacer algo tan simple y sencillo como separar las oraciones en los espacios en blanco usando `split`, y mientras que esto funciona, podemos hacer algo mucho mejor si usamos una herramienta muy popular en el mundo de Python y el procesamiento de lenguaje natural. Esta herramienta se llama **NLTK** (*Natural Language ToolKit*)."
   ]
  },
  {
   "cell_type": "code",
   "execution_count": 21,
   "metadata": {
    "id": "2nhTdcdNCW7f"
   },
   "outputs": [],
   "source": [
    "from nltk.tokenize.toktok import ToktokTokenizer\n",
    "\n",
    "tk_tokenizer = ToktokTokenizer()"
   ]
  },
  {
   "cell_type": "code",
   "execution_count": 22,
   "metadata": {
    "colab": {
     "base_uri": "https://localhost:8080/"
    },
    "id": "J2z3vF5oCW7f",
    "outputId": "8edeac4e-218d-4a10-d4c4-5b419ed59e8b"
   },
   "outputs": [
    {
     "name": "stdout",
     "output_type": "stream",
     "text": [
      "Así # como # me # encuentro # , # uno # , # dos # , # tres # , # que # me # hacen # muecas # , # me # encuentro # muchos # que # me # dicen # : # ‘Adelante # , # estamos # con # usted # ’ # , # y # me # desean # lo # mejor # y # bendiciones # , # y # todo # , # pero # muchísimas. # Entonces # , # imagínense # cómo # no # voy # a # estar # al # 100 # .\n"
     ]
    }
   ],
   "source": [
    "tokens = tk_tokenizer.tokenize(example_sentence)\n",
    "print(\" # \".join(tokens))"
   ]
  },
  {
   "cell_type": "markdown",
   "metadata": {
    "id": "bRAwAHN3CW7f"
   },
   "source": [
    "Vamos a ver qué encontramos entre los tokens:\n",
    "\n",
    " - **Símbolos de puntuación**: Lo que me interesa en esta etapa son las palabras, no tanto los símbolos de puntuación puesto que estamos hablando de un modelo sencillo, además de que los símbolos de puntuación no son indicativos de cómo es que habla una persona necesariamente, sino que estos son artefactos que las personas que transcribieron las conferencias usan para hacer más entendible el diálogo. Así que vamos a eliminarlos\n",
    " \n",
    " - **Stopwords**: el español, así como otros idiomas, contiene palabras que son usadas por todos y todas las hablantes, independientemente del tema del que estemos hablando, palabras como: él, la, al, a, que, los... forman parte del vocabulario de todos, así que también podemos descartarlas puesto que si todas las usan, no van a ser tan indicativas o específicas para determinada persona.\n",
    " \n",
    " - **Números**: otra cosa que podemos hacer es convertir tokens de una sola categoría pero que no necesariamente son los mismos siempre, por ejemplo números, si una persona se la pasa hablando constantemente de cifras esto puede ser indicativo de que esa persona se dedica a determinada profesión. Podemos también convertir cualquier número como 50, 30, 1 a algo normalizado y conocido, por ejemplo: `<NUM>`\n",
    " \n",
    " - **Palabras con tildes** (opcional): en español tiene usamos tildes para darle significado a ciertas palabras, sin embargo por el momento vamos a eliminar los acentos para simplificar un poco más el modelo. Si vemos que el desempeño es muy pobre podríamos considerar acentos y tildes.\n",
    " \n",
    "Nosotros vamos a crear una función que nos permita convertir una frase en tokens, a la vez que nos ayude a eliminar las tildes, los símbolos de puntuación y las stopwords:"
   ]
  },
  {
   "cell_type": "code",
   "execution_count": 23,
   "metadata": {
    "id": "NxU6_fW5CW7f"
   },
   "outputs": [],
   "source": [
    "sp_stopwords = stopwords.words(\"spanish\")\n",
    "sp_punctuation = string.punctuation + '¿¡'\n",
    "\n",
    "not_wanted = set((unidecode(word) for word in sp_stopwords)) | set(sp_punctuation)\n",
    "\n",
    "tk_tokenizer = ToktokTokenizer()\n",
    "\n",
    "\n",
    "def tokenize(sentence):\n",
    "    clean = []\n",
    "    clean_sentence = unidecode(sentence)\n",
    "    for token_ in tk_tokenizer.tokenize(clean_sentence):\n",
    "        token = token_.lower()\n",
    "        if token in not_wanted:\n",
    "            continue\n",
    "        clean.append(token)\n",
    "    return clean"
   ]
  },
  {
   "cell_type": "code",
   "execution_count": 24,
   "metadata": {
    "colab": {
     "base_uri": "https://localhost:8080/"
    },
    "id": "wxsCOsPhCW7f",
    "outputId": "2c60548f-4a8b-4aa2-d190-7453ac049424"
   },
   "outputs": [
    {
     "name": "stdout",
     "output_type": "stream",
     "text": [
      "Así como me encuentro, uno, dos, tres, que me hacen muecas, me encuentro muchos que me dicen: ‘Adelante, estamos con usted’, y me desean lo mejor y bendiciones, y todo, pero muchísimas. Entonces, imagínense cómo no voy a estar al 100.\n",
      "\n",
      "asi # encuentro # dos # tres # hacen # muecas # encuentro # dicen # adelante # usted # desean # mejor # bendiciones # muchisimas. # entonces # imaginense # voy # 100\n"
     ]
    }
   ],
   "source": [
    "tokens = tokenize(example_sentence)\n",
    "print(example_sentence)\n",
    "print()\n",
    "tokens = tokenize(example_sentence)\n",
    "print(\" # \".join(tokens))"
   ]
  },
  {
   "cell_type": "markdown",
   "metadata": {
    "id": "KzR8qb7OCW7g"
   },
   "source": [
    "#### One-hot encoding\n",
    "\n",
    "El siguiente paso es convertir esa secuencia de tokens limpios a un conjunto de números. Para esto existen todavía más opciones, pero vamos nuevamente a comenzar con una más sencilla. Digamos que vamos a crear una tabla enorme en donde las columnas serán todos y cada uno de los tokens y cada una de las filas va a ser cada uno de los ejemplos que tenemos a nuestro alcance.\n",
    "\n",
    "Entonces, lo que vamos a hacer es ir oración por oración y token por token, cuando encontremos un token en una oración vamos a poner un `1` en esa fila y en esa columna, podemos verlo con un ejemplo."
   ]
  },
  {
   "cell_type": "markdown",
   "metadata": {
    "id": "qng15Z3jCW7g"
   },
   "source": [
    "Tokens\n",
    " 1. viva mexico paisanos septiembre\n",
    " 2. mexico inundaciones viva voz\n",
    " \n",
    "Obtendríamos algo como esto:\n",
    " \n",
    "|       | viva | mexico | paisanos | ... | septiembre | inundaciones | voz |\n",
    "|-------|------|--------|----------|-----|------------|--------------|-----|\n",
    "| **1** | 1    | 1      | 1        | ... | 1          | 0            | 0   |\n",
    "| **2** | 1    | 1      | 0        | ... | 0          | 1            | 1   |\n"
   ]
  },
  {
   "cell_type": "markdown",
   "metadata": {
    "id": "ATExWA_wCW7g"
   },
   "source": [
    "Podríamos implementar esto manualmente, pero también, la mejor opción es usar algo que ya alguien más ha implementado:"
   ]
  },
  {
   "cell_type": "code",
   "execution_count": 25,
   "metadata": {
    "id": "zgx11Zi6CW7g"
   },
   "outputs": [],
   "source": [
    "from sklearn.feature_extraction.text import CountVectorizer\n",
    "\n",
    "vectorizador_ejemplo = CountVectorizer(binary=True, analyzer=tokenize, max_features=4000)"
   ]
  },
  {
   "cell_type": "code",
   "execution_count": 26,
   "metadata": {
    "colab": {
     "base_uri": "https://localhost:8080/",
     "height": 111
    },
    "id": "JYQtTO1vCW7g",
    "outputId": "dad1d31c-d158-4828-e1f3-2c1cf9280f76"
   },
   "outputs": [
    {
     "data": {
      "text/html": [
       "<div>\n",
       "<style scoped>\n",
       "    .dataframe tbody tr th:only-of-type {\n",
       "        vertical-align: middle;\n",
       "    }\n",
       "\n",
       "    .dataframe tbody tr th {\n",
       "        vertical-align: top;\n",
       "    }\n",
       "\n",
       "    .dataframe thead th {\n",
       "        text-align: right;\n",
       "    }\n",
       "</style>\n",
       "<table border=\"1\" class=\"dataframe\">\n",
       "  <thead>\n",
       "    <tr style=\"text-align: right;\">\n",
       "      <th></th>\n",
       "      <th>actuar</th>\n",
       "      <th>acuerdo</th>\n",
       "      <th>aduanas</th>\n",
       "      <th>almacenar</th>\n",
       "      <th>bienes</th>\n",
       "      <th>bodegas</th>\n",
       "      <th>cabo</th>\n",
       "      <th>comercios</th>\n",
       "      <th>cosas</th>\n",
       "      <th>creo</th>\n",
       "      <th>...</th>\n",
       "      <th>forma</th>\n",
       "      <th>gobierno</th>\n",
       "      <th>llevar</th>\n",
       "      <th>muchisimas</th>\n",
       "      <th>paga</th>\n",
       "      <th>perder</th>\n",
       "      <th>renta</th>\n",
       "      <th>roban</th>\n",
       "      <th>ropa</th>\n",
       "      <th>tiempo</th>\n",
       "    </tr>\n",
       "  </thead>\n",
       "  <tbody>\n",
       "    <tr>\n",
       "      <th>1</th>\n",
       "      <td>0</td>\n",
       "      <td>1</td>\n",
       "      <td>0</td>\n",
       "      <td>0</td>\n",
       "      <td>0</td>\n",
       "      <td>0</td>\n",
       "      <td>0</td>\n",
       "      <td>1</td>\n",
       "      <td>0</td>\n",
       "      <td>0</td>\n",
       "      <td>...</td>\n",
       "      <td>0</td>\n",
       "      <td>0</td>\n",
       "      <td>0</td>\n",
       "      <td>0</td>\n",
       "      <td>0</td>\n",
       "      <td>0</td>\n",
       "      <td>0</td>\n",
       "      <td>0</td>\n",
       "      <td>1</td>\n",
       "      <td>0</td>\n",
       "    </tr>\n",
       "    <tr>\n",
       "      <th>2</th>\n",
       "      <td>1</td>\n",
       "      <td>0</td>\n",
       "      <td>1</td>\n",
       "      <td>1</td>\n",
       "      <td>1</td>\n",
       "      <td>1</td>\n",
       "      <td>1</td>\n",
       "      <td>0</td>\n",
       "      <td>1</td>\n",
       "      <td>1</td>\n",
       "      <td>...</td>\n",
       "      <td>1</td>\n",
       "      <td>1</td>\n",
       "      <td>1</td>\n",
       "      <td>1</td>\n",
       "      <td>1</td>\n",
       "      <td>1</td>\n",
       "      <td>1</td>\n",
       "      <td>1</td>\n",
       "      <td>0</td>\n",
       "      <td>1</td>\n",
       "    </tr>\n",
       "  </tbody>\n",
       "</table>\n",
       "<p>2 rows × 24 columns</p>\n",
       "</div>"
      ],
      "text/plain": [
       "   actuar  acuerdo  aduanas  almacenar  bienes  bodegas  cabo  comercios  \\\n",
       "1       0        1        0          0       0        0     0          1   \n",
       "2       1        0        1          1       1        1     1          0   \n",
       "\n",
       "   cosas  creo  ...  forma  gobierno  llevar  muchisimas  paga  perder  renta  \\\n",
       "1      0     0  ...      0         0       0           0     0       0      0   \n",
       "2      1     1  ...      1         1       1           1     1       1      1   \n",
       "\n",
       "   roban  ropa  tiempo  \n",
       "1      0     1       0  \n",
       "2      1     0       1  \n",
       "\n",
       "[2 rows x 24 columns]"
      ]
     },
     "execution_count": 26,
     "metadata": {},
     "output_type": "execute_result"
    }
   ],
   "source": [
    "ejemplos = [\n",
    "    \"Hay el acuerdo con algunas empresas, comercios, que la ropa que se decomisa\",\n",
    "    \"Durante mucho tiempo se creó esta forma de actuar en el gobierno, de llevar a cabo decomisos en aduanas y almacenar, y se tienen muchísimas bodegas y se paga renta, y se echan a perder las cosas, se roban muchos bienes\"\n",
    "]\n",
    "vectors = vectorizador_ejemplo.fit_transform(ejemplos)\n",
    "\n",
    "vocabulary = vectorizador_ejemplo.vocabulary_\n",
    "columns = [token for token, _ in sorted(vocabulary.items(), key=lambda item: item[1])]\n",
    "pd.DataFrame(vectors.todense(), columns=columns, index=[1, 2])"
   ]
  },
  {
   "cell_type": "markdown",
   "metadata": {
    "id": "WoBbsKBVCW7g"
   },
   "source": [
    "Ahora si, vamos a crear este vectorizador final que vamos a usar en nuestro modelo final."
   ]
  },
  {
   "cell_type": "code",
   "execution_count": 27,
   "metadata": {
    "id": "hnFOuRVJCW7h"
   },
   "outputs": [],
   "source": [
    "vectorizador_real = CountVectorizer(binary=True, analyzer=tokenize, max_features=1000)"
   ]
  },
  {
   "cell_type": "markdown",
   "metadata": {
    "id": "bbVkWQCiCW7h"
   },
   "source": [
    "Vamos a \"entrenar\" nuestro vectorizador usando nuestros datos de entrenamiento, luego vamos a transformar el conjunto de validación y el conjunto de prueba.\n",
    "\n",
    " > ¡Recuerda que NO debemos entrenar nada con los conjuntos de validación y prueba!"
   ]
  },
  {
   "cell_type": "code",
   "execution_count": 28,
   "metadata": {
    "id": "ZJpNPshYCW7h"
   },
   "outputs": [],
   "source": [
    "vectorizador_real.fit(dialogs_train)\n",
    "\n",
    "train_x = vectorizador_real.transform(dialogs_train)\n",
    "val_x = vectorizador_real.transform(dialogs_val)\n",
    "test_x = vectorizador_real.transform(dialogs_test)"
   ]
  },
  {
   "cell_type": "markdown",
   "metadata": {
    "id": "K2FqMIOyCW7h"
   },
   "source": [
    "## Modelado"
   ]
  },
  {
   "cell_type": "markdown",
   "metadata": {},
   "source": [
    "Al tratarse de un problema de clasificación, podemos hacer uso de modelos como el de la regresión lineal, una máquina de soporte de vectores o inclusive el de bosques aleatorios.\n",
    "\n",
    "Para este ejercicio voy a usar una regresión logística:"
   ]
  },
  {
   "cell_type": "code",
   "execution_count": 29,
   "metadata": {
    "id": "U8cj3UL1CW7h"
   },
   "outputs": [],
   "source": [
    "from sklearn.linear_model import LogisticRegression"
   ]
  },
  {
   "cell_type": "code",
   "execution_count": 30,
   "metadata": {
    "id": "U06O3TOMCW7i"
   },
   "outputs": [],
   "source": [
    "lr = LogisticRegression(max_iter=1000, class_weight=\"balanced\")"
   ]
  },
  {
   "cell_type": "code",
   "execution_count": 31,
   "metadata": {
    "colab": {
     "base_uri": "https://localhost:8080/"
    },
    "id": "l5ky_-k2CW7i",
    "outputId": "2991e820-e931-4dd8-e07f-6fbad6001a13"
   },
   "outputs": [
    {
     "data": {
      "text/plain": [
       "LogisticRegression(class_weight='balanced', max_iter=1000)"
      ]
     },
     "execution_count": 31,
     "metadata": {},
     "output_type": "execute_result"
    }
   ],
   "source": [
    "lr.fit(train_x, train_y)"
   ]
  },
  {
   "cell_type": "code",
   "execution_count": 32,
   "metadata": {
    "id": "gEITzKWUCW7i"
   },
   "outputs": [],
   "source": [
    "train_pred = lr.predict(train_x)  # Para diagnosticar overfitting\n",
    "val_pred = lr.predict(val_x)  # Para decidir cambios sobre el modelo"
   ]
  },
  {
   "cell_type": "markdown",
   "metadata": {
    "id": "I58zvPruFape"
   },
   "source": [
    "### Revisando las métricas establecidas"
   ]
  },
  {
   "cell_type": "code",
   "execution_count": 33,
   "metadata": {
    "id": "dwYz6G53EVMx"
   },
   "outputs": [],
   "source": [
    "from sklearn.metrics import accuracy_score"
   ]
  },
  {
   "cell_type": "code",
   "execution_count": 34,
   "metadata": {
    "colab": {
     "base_uri": "https://localhost:8080/"
    },
    "id": "Z5HBwCncE3wh",
    "outputId": "47a33fa4-b985-4255-dd94-5b8313836b03"
   },
   "outputs": [
    {
     "name": "stdout",
     "output_type": "stream",
     "text": [
      "Training accuracy:   89.79%\n",
      "Validation accuracy: 88.80%\n"
     ]
    }
   ],
   "source": [
    "training_accuracy = accuracy_score(train_y, train_pred)\n",
    "validation_accuracy = accuracy_score(val_y, val_pred)\n",
    "\n",
    "print(f\"Training accuracy:   {training_accuracy:0.2%}\")\n",
    "print(f\"Validation accuracy: {validation_accuracy:0.2%}\")"
   ]
  },
  {
   "cell_type": "markdown",
   "metadata": {
    "id": "nlGX1QEJG1v1"
   },
   "source": [
    "### Evaluando el desempeño en el conjunto de prueba\n",
    "\n",
    "Una vez que estamos contentos con el modelo creado, podemos ponerlo a prueba en el conjunto de datos de *test* para verificar la calidad de nuestro modelo."
   ]
  },
  {
   "cell_type": "code",
   "execution_count": 35,
   "metadata": {
    "id": "HCMi8lLhG-PC"
   },
   "outputs": [
    {
     "name": "stdout",
     "output_type": "stream",
     "text": [
      "Test accuracy:   88.99%\n"
     ]
    }
   ],
   "source": [
    "test_pred = lr.predict(test_x)\n",
    "test_accuracy = accuracy_score(test_y, test_pred)\n",
    "\n",
    "print(f\"Test accuracy:   {test_accuracy:0.2%}\")"
   ]
  },
  {
   "cell_type": "markdown",
   "metadata": {
    "id": "_OJCIUblHpvE"
   },
   "source": [
    "## Evaluando en una oración propia"
   ]
  },
  {
   "cell_type": "code",
   "execution_count": 38,
   "metadata": {
    "colab": {
     "base_uri": "https://localhost:8080/"
    },
    "id": "olkKDx-mH2Uv",
    "outputId": "2b46c913-7b31-4f37-a0d6-cb43c118f0ce"
   },
   "outputs": [
    {
     "name": "stdout",
     "output_type": "stream",
     "text": [
      "38.23% – Médico\n",
      "61.77 - Político\n"
     ]
    }
   ],
   "source": [
    "#oracion = \"Este destino ha amenazado nuestra educación, la salud y la economía\"\n",
    "#oracion = \"La inmunidad global requiere de la solidaridad para que no exista acaparamiento de unos, frente a la necesidad de otros\"\n",
    "\n",
    "oracion = \"el esquema de la devolución del impuesto de IVA para más de dos millones de hogares vulnerables\"\n",
    "own_x = vectorizador_real.transform([oracion])\n",
    "result = lr.predict(own_x)\n",
    "medico, politico = lr.predict_proba(own_x).squeeze() * 100\n",
    "print(f\"{medico:05.2f}% – Médico\\n{politico:05.2f} - Político\")"
   ]
  },
  {
   "cell_type": "markdown",
   "metadata": {
    "id": "ljvR2mlWINNb"
   },
   "source": [
    "## De tarea... \n",
    "\n",
    " - ¿Recuerdas la distribución de la longitud de cada diálogo? explora un poco más el dataset para corroborar si es buena idea trabajar con un solo modelo.\n",
    " - Prueba con diversas maneras de vectorizar el texto:\n",
    "     - Tokeniza las palabras de diversas maneras.\n",
    "     - Revisa los parámetros de `CountVectorizer`.\n",
    "     - Investiga y revisa si `TfidfVectorizer` es mejor.\n",
    " - Intenta crear diversos modelos con diversos algoritmos."
   ]
  },
  {
   "cell_type": "markdown",
   "metadata": {},
   "source": [
    "## Para aprender más  \n",
    "\n",
    " - Revisa cómo creo el dataset en [GitLab](https://gitlab.com/thatcsharpguy/datasets/mananeras)\n",
    " - Revisa el libro [Applied Text Analysis with Python](https://www.oreilly.com/library/view/applied-text-analysis/9781491963036/)\n",
    " - Lee mi serie sobre Análisis de Texto en [Tacos de Datos](https://www.tacosdedatos.com/ioexception/introduccion-al-analisis-de-texto-4247)\n",
    " - Hay otras bibliotecas específicas para trabajar con texto: [Gensim](https://radimrehurek.com/gensim/), [spaCy](https://spacy.io/) y [Hugging Face](https://huggingface.co)\n"
   ]
  },
  {
   "cell_type": "code",
   "execution_count": null,
   "metadata": {},
   "outputs": [],
   "source": []
  }
 ],
 "metadata": {
  "colab": {
   "collapsed_sections": [],
   "name": "¿Quién está hablando? – AMLO vs HLG.ipynb",
   "provenance": [],
   "toc_visible": true
  },
  "kernelspec": {
   "display_name": "Python 3 (ipykernel)",
   "language": "python",
   "name": "python3"
  },
  "language_info": {
   "codemirror_mode": {
    "name": "ipython",
    "version": 3
   },
   "file_extension": ".py",
   "mimetype": "text/x-python",
   "name": "python",
   "nbconvert_exporter": "python",
   "pygments_lexer": "ipython3",
   "version": "3.8.8"
  }
 },
 "nbformat": 4,
 "nbformat_minor": 4
}
