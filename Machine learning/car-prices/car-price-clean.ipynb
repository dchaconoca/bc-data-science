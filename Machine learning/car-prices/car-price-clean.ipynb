{
 "cells": [
  {
   "cell_type": "markdown",
   "id": "f5cb43bc-6457-42a1-9467-23f6021d59da",
   "metadata": {},
   "source": [
    "# Precio de automóviles usados"
   ]
  },
  {
   "cell_type": "markdown",
   "id": "0b205551-4d5e-4048-bc6b-3ddc1297c2bc",
   "metadata": {},
   "source": [
    "Imaginen ustedes que tienen un amigo que quiere vender un automóvil, pero no está muy seguro de cuánto cobrar por él. ¿Qué harías?\n",
    "\n",
    "Este es el problema que Aditya se encontró, entonces lo que hizo fue hacer web scraping (dedscargar información de la web) para obtener información de un sitio de venta de automóviles en donde estában listadas un montón de características y el precio final al que cada uno de ellos fue vendido. \n",
    "\n",
    " > ❓ ¿Cómo es que nosotros podemos ayudar?\n",
    " \n",
    "Accede a el dataset en el archivo `cars.csv`, puedes ver el dataset original [aquí](https://www.kaggle.com/adityadesai13/used-car-dataset-ford-and-mercedes)."
   ]
  },
  {
   "cell_type": "code",
   "execution_count": null,
   "id": "043ade40-3968-4601-9559-4356bdf36a9c",
   "metadata": {},
   "outputs": [],
   "source": []
  }
 ],
 "metadata": {
  "kernelspec": {
   "display_name": "default:Python",
   "language": "python",
   "name": "conda-env-default-py"
  },
  "language_info": {
   "codemirror_mode": {
    "name": "ipython",
    "version": 3
   },
   "file_extension": ".py",
   "mimetype": "text/x-python",
   "name": "python",
   "nbconvert_exporter": "python",
   "pygments_lexer": "ipython3",
   "version": "3.9.7"
  }
 },
 "nbformat": 4,
 "nbformat_minor": 5
}
