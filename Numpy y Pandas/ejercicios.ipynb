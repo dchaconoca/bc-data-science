{
 "cells": [
  {
   "cell_type": "code",
   "execution_count": 4,
   "id": "cd0cfacc",
   "metadata": {
    "scrolled": true
   },
   "outputs": [],
   "source": [
    "import pandas as pd\n",
    "\n",
    "data = pd.read_csv('usuarios.csv')\n",
    "\n",
    "    "
   ]
  },
  {
   "cell_type": "code",
   "execution_count": 23,
   "id": "77e802bb",
   "metadata": {},
   "outputs": [
    {
     "data": {
      "text/html": [
       "<div>\n",
       "<style scoped>\n",
       "    .dataframe tbody tr th:only-of-type {\n",
       "        vertical-align: middle;\n",
       "    }\n",
       "\n",
       "    .dataframe tbody tr th {\n",
       "        vertical-align: top;\n",
       "    }\n",
       "\n",
       "    .dataframe thead th {\n",
       "        text-align: right;\n",
       "    }\n",
       "</style>\n",
       "<table border=\"1\" class=\"dataframe\">\n",
       "  <thead>\n",
       "    <tr style=\"text-align: right;\">\n",
       "      <th></th>\n",
       "      <th>name</th>\n",
       "    </tr>\n",
       "  </thead>\n",
       "  <tbody>\n",
       "    <tr>\n",
       "      <th>0</th>\n",
       "      <td>NaN</td>\n",
       "    </tr>\n",
       "    <tr>\n",
       "      <th>13</th>\n",
       "      <td>Mr Gerardo Garrido</td>\n",
       "    </tr>\n",
       "  </tbody>\n",
       "</table>\n",
       "</div>"
      ],
      "text/plain": [
       "                  name\n",
       "0                  NaN\n",
       "13  Mr Gerardo Garrido"
      ]
     },
     "execution_count": 23,
     "metadata": {},
     "output_type": "execute_result"
    }
   ],
   "source": [
    "# Mostrar en consola el nombre de todos los usuarios que no poseen correo electrónico.\n",
    "data[ data['email'].isnull() ][ ['name'] ] # np.nan"
   ]
  },
  {
   "cell_type": "code",
   "execution_count": 36,
   "id": "feb6dd31",
   "metadata": {},
   "outputs": [
    {
     "data": {
      "text/plain": [
       "id         199\n",
       "age         75\n",
       "gender    male\n",
       "dtype: object"
      ]
     },
     "execution_count": 36,
     "metadata": {},
     "output_type": "execute_result"
    }
   ],
   "source": [
    "# Listar el nombre y correo de los usuarios más jóvenes de Germany y Canadá.\n",
    "\"\"\"\n",
    "canada = data[ data['country'] == 'Canada' ].sort_values('age').head(1) # Asc\n",
    "\n",
    "canada.append(\n",
    "    data[ data['country'] == 'Germany' ].sort_values('age').head(1)\n",
    ")\n",
    "\n",
    "\"\"\"\n",
    "\n",
    "def mas_joven_pais(df, pais):\n",
    "    df[(df['country'] == pais) & (df['age'] == df[df['country'] == pais].age.min())].loc[:,['name', 'email']]\n",
    "\n",
    "\n",
    "# mas_joven_pais(data, 'Germany')\n",
    "\n",
    "# data[data['country']== \"Canada\"].sort_values(\"age\")[['name','age','email']].head(1)\n",
    "\n",
    "# data[(data['country']=='Canada') & (data['age'] == data[data['country'] == 'Canada']['age'].min())][['name','email','age']]\n",
    "\n",
    "\n",
    "# Mostrar los usuarios con mayor edad\n",
    "data.max()\n",
    "\n"
   ]
  },
  {
   "cell_type": "code",
   "execution_count": 41,
   "id": "4fe598fb",
   "metadata": {},
   "outputs": [
    {
     "data": {
      "text/plain": [
       "country\n",
       "Ireland           16\n",
       "Denmark           16\n",
       "United Kingdom    14\n",
       "Norway            14\n",
       "New Zealand       14\n",
       "Name: country, dtype: int64"
      ]
     },
     "execution_count": 41,
     "metadata": {},
     "output_type": "execute_result"
    }
   ],
   "source": [
    "# Listar los 5 países con mayor cantidad de usuarios.\n",
    "\n",
    "# data.groupby(by='country')['country'].count().sort_values(ascending=False).head(5)\n",
    "\n",
    "# data.value_counts(data['country']).head(5)\n",
    "\n",
    "data['country'].value_counts().head(5)\n",
    "\n",
    "# data.groupby('country')['country'].agg('count').sort_values(ascending=False).head(5)\n",
    "\n"
   ]
  },
  {
   "cell_type": "code",
   "execution_count": 52,
   "id": "1facad18",
   "metadata": {},
   "outputs": [
    {
     "data": {
      "text/plain": [
       "Ireland    16\n",
       "Denmark    16\n",
       "Name: country, dtype: int64"
      ]
     },
     "execution_count": 52,
     "metadata": {},
     "output_type": "execute_result"
    }
   ],
   "source": [
    "# Obtener el país con más usuarios.\n",
    "\n",
    "# data.groupby('country')['country'].count().sort_values(ascending=False).head(1)\n",
    "\n",
    "# data['country'].value_counts()[data['country'].value_counts() == data['country'].value_counts().max()]\n",
    "\n",
    "data['country'].value_counts()[:5]\n",
    "\n",
    "# data.groupby(\"country\")[\"country\"].count().idxmax()\n",
    "\n",
    "# data['country'].value_counts()[data['country'].value_counts() == data['country'].value_counts().max()]\n",
    "\n"
   ]
  },
  {
   "cell_type": "code",
   "execution_count": 75,
   "id": "e8d8abeb",
   "metadata": {},
   "outputs": [
    {
     "data": {
      "text/plain": [
       "'Iran'"
      ]
     },
     "execution_count": 75,
     "metadata": {},
     "output_type": "execute_result"
    }
   ],
   "source": [
    "# Obtener el país con más usuarios cuya edad sean mayor a 50.\n",
    "\n",
    "df = data\n",
    "\n",
    "# data[ data['age'] > 50 ].groupby('country')['country'].count().sort_values(ascending=False).head(2)\n",
    "\n",
    "# data.loc[data.age > 50].groupby('country').count().name.sort_values(ascending=False)[:1]\n",
    "\n",
    "data[(data['age'] > 50)].value_counts(data['country']).head(1)\n",
    "\n",
    "# mas_usuarios_mayores = df[df['age'] > 50].groupby('country').count().name.sort_values(ascending=False)\n",
    "# mas_usuarios_mayores.head(1).index\n",
    "\n",
    "# df[df[\"age\"]>50].groupby(\"country\")[\"country\"].count().idxmax()\n",
    "\n"
   ]
  },
  {
   "cell_type": "code",
   "execution_count": 88,
   "id": "5a1a9fc4",
   "metadata": {},
   "outputs": [
    {
     "data": {
      "text/plain": [
       "Canada     12\n",
       "Germany     9\n",
       "Name: country, dtype: int64"
      ]
     },
     "execution_count": 88,
     "metadata": {},
     "output_type": "execute_result"
    }
   ],
   "source": [
    "# Obtener la suma total de todos los usuarios de Canadá y Alemania.\n",
    "\n",
    "# len(data[(data['country']=='Canada') | (data['country']=='Germany')])\n",
    "\n",
    "\"\"\"\n",
    "paises = ['Canada', 'Germany']\n",
    "\n",
    "usuarios_can_alem = df[df.country.isin(paises)].count().age\n",
    "\n",
    "usuarios_can_alem\n",
    "\n",
    "\"\"\"\n",
    "\n",
    "# data[(data['country']=='Canada') | (data['country']=='Germany')].shape[0]\n",
    "\n",
    "data[data['country'].isin([\"Germany\",\"Canada\"])].value_counts(data['country']).head()\n",
    "\n",
    "# data[(data['country']=='Canada') | (data['country']=='Germany')]['country'].count()\n",
    "\n",
    "# data.loc[data.country.isin(['Canada','Germany'])]['country'].count()\n",
    "\n",
    "# data.query('country in (\"Canada\",\"Germany\")')['country'].value_counts()\n",
    "\n"
   ]
  },
  {
   "cell_type": "code",
   "execution_count": 117,
   "id": "91e97b50",
   "metadata": {},
   "outputs": [
    {
     "data": {
      "text/plain": [
       "17"
      ]
     },
     "execution_count": 117,
     "metadata": {},
     "output_type": "execute_result"
    }
   ],
   "source": [
    "# Mostrar en consola la cantidad de países en el dataset.\n",
    "data = data.dropna()\n",
    "\n",
    "# len(data['country'].unique())\n",
    "\n",
    "# len(data['country'].value_counts())\n",
    "\n",
    "# data['country'].unique().size\n",
    "\n",
    "# len(df['country'].unique().tolist())\n",
    "\n",
    "# len(data.country.unique())\n",
    "\n",
    "# data['country'].unique()\n",
    "len(data.groupby('country').count())\n"
   ]
  },
  {
   "cell_type": "code",
   "execution_count": 122,
   "id": "b4bb4b0d",
   "metadata": {},
   "outputs": [
    {
     "data": {
      "text/html": [
       "<div>\n",
       "<style scoped>\n",
       "    .dataframe tbody tr th:only-of-type {\n",
       "        vertical-align: middle;\n",
       "    }\n",
       "\n",
       "    .dataframe tbody tr th {\n",
       "        vertical-align: top;\n",
       "    }\n",
       "\n",
       "    .dataframe thead th {\n",
       "        text-align: right;\n",
       "    }\n",
       "</style>\n",
       "<table border=\"1\" class=\"dataframe\">\n",
       "  <thead>\n",
       "    <tr style=\"text-align: right;\">\n",
       "      <th></th>\n",
       "      <th>age</th>\n",
       "    </tr>\n",
       "    <tr>\n",
       "      <th>country</th>\n",
       "      <th></th>\n",
       "    </tr>\n",
       "  </thead>\n",
       "  <tbody>\n",
       "    <tr>\n",
       "      <th>Australia</th>\n",
       "      <td>51.166667</td>\n",
       "    </tr>\n",
       "    <tr>\n",
       "      <th>Brazil</th>\n",
       "      <td>50.666667</td>\n",
       "    </tr>\n",
       "    <tr>\n",
       "      <th>Canada</th>\n",
       "      <td>38.583333</td>\n",
       "    </tr>\n",
       "    <tr>\n",
       "      <th>Denmark</th>\n",
       "      <td>48.812500</td>\n",
       "    </tr>\n",
       "    <tr>\n",
       "      <th>Finland</th>\n",
       "      <td>42.200000</td>\n",
       "    </tr>\n",
       "    <tr>\n",
       "      <th>France</th>\n",
       "      <td>48.900000</td>\n",
       "    </tr>\n",
       "    <tr>\n",
       "      <th>Germany</th>\n",
       "      <td>39.555556</td>\n",
       "    </tr>\n",
       "    <tr>\n",
       "      <th>Iran</th>\n",
       "      <td>54.230769</td>\n",
       "    </tr>\n",
       "    <tr>\n",
       "      <th>Ireland</th>\n",
       "      <td>42.000000</td>\n",
       "    </tr>\n",
       "    <tr>\n",
       "      <th>Netherlands</th>\n",
       "      <td>51.833333</td>\n",
       "    </tr>\n",
       "    <tr>\n",
       "      <th>New Zealand</th>\n",
       "      <td>49.071429</td>\n",
       "    </tr>\n",
       "    <tr>\n",
       "      <th>Norway</th>\n",
       "      <td>46.071429</td>\n",
       "    </tr>\n",
       "    <tr>\n",
       "      <th>Spain</th>\n",
       "      <td>55.166667</td>\n",
       "    </tr>\n",
       "    <tr>\n",
       "      <th>Switzerland</th>\n",
       "      <td>44.000000</td>\n",
       "    </tr>\n",
       "    <tr>\n",
       "      <th>Turkey</th>\n",
       "      <td>47.000000</td>\n",
       "    </tr>\n",
       "    <tr>\n",
       "      <th>United Kingdom</th>\n",
       "      <td>50.142857</td>\n",
       "    </tr>\n",
       "    <tr>\n",
       "      <th>United States</th>\n",
       "      <td>51.333333</td>\n",
       "    </tr>\n",
       "  </tbody>\n",
       "</table>\n",
       "</div>"
      ],
      "text/plain": [
       "                      age\n",
       "country                  \n",
       "Australia       51.166667\n",
       "Brazil          50.666667\n",
       "Canada          38.583333\n",
       "Denmark         48.812500\n",
       "Finland         42.200000\n",
       "France          48.900000\n",
       "Germany         39.555556\n",
       "Iran            54.230769\n",
       "Ireland         42.000000\n",
       "Netherlands     51.833333\n",
       "New Zealand     49.071429\n",
       "Norway          46.071429\n",
       "Spain           55.166667\n",
       "Switzerland     44.000000\n",
       "Turkey          47.000000\n",
       "United Kingdom  50.142857\n",
       "United States   51.333333"
      ]
     },
     "execution_count": 122,
     "metadata": {},
     "output_type": "execute_result"
    }
   ],
   "source": [
    "# Obtener el promedio de edad de cada uno de los países.\n",
    "# Australia = 12 o 51\n",
    "\n",
    "data.groupby('country')['age'].mean()\n",
    "\n",
    "# data.groupby('country').agg({'age': ['mean', 'max', 'count']})\n",
    "\n",
    "# round(df.groupby('country').age.mean(), 1)\n",
    "\n",
    "# pd.pivot_table(data, index='country', values='age', aggfunc='mean')\n",
    "\n"
   ]
  },
  {
   "cell_type": "code",
   "execution_count": 129,
   "id": "d5e2fec6",
   "metadata": {},
   "outputs": [
    {
     "data": {
      "text/plain": [
       "country  country\n",
       "Ireland  Ireland    10\n",
       "Name: country, dtype: int64"
      ]
     },
     "execution_count": 129,
     "metadata": {},
     "output_type": "execute_result"
    }
   ],
   "source": [
    "# Mostrar en consola el país con más hombres.\n",
    "\n",
    "data[ data['gender'] == 'male' ].groupby('country')['country'].count().sort_values(ascending=False).head(1)\n",
    "\n",
    "# mas_hombres = df[df['gender'] == 'male'].groupby('country').count().name.sort_values(ascending=False)\n",
    "\n",
    "# mas_hombres.head(1)\n",
    "\n",
    "# s = data.groupby([\"country\", \"gender\"])[\"country\"].count()\n",
    "# s[ [True if x[1] == \"male\" else False for x in s.index]].sort_values(ascending=False)\n",
    "\n",
    "# data[data['gender']=='male'].groupby('country')['country'].value_counts()[data[data['gender']=='male'].groupby('country')['country'].value_counts() == data[data['gender']=='male'].groupby('country')['country'].value_counts().max()]\n",
    "\n"
   ]
  },
  {
   "cell_type": "code",
   "execution_count": 53,
   "id": "b1f49ce5",
   "metadata": {},
   "outputs": [
    {
     "data": {
      "text/plain": [
       "Ireland    16\n",
       "Denmark    16\n",
       "Name: country, dtype: int64"
      ]
     },
     "execution_count": 53,
     "metadata": {},
     "output_type": "execute_result"
    }
   ],
   "source": [
    "# Obtener todos los paises con mayor cantidad de usuarios\n",
    "\n",
    "data['country'].value_counts()[data['country'].value_counts() == data['country'].value_counts().max()]\n"
   ]
  }
 ],
 "metadata": {
  "kernelspec": {
   "display_name": "Python 3 (ipykernel)",
   "language": "python",
   "name": "python3"
  },
  "language_info": {
   "codemirror_mode": {
    "name": "ipython",
    "version": 3
   },
   "file_extension": ".py",
   "mimetype": "text/x-python",
   "name": "python",
   "nbconvert_exporter": "python",
   "pygments_lexer": "ipython3",
   "version": "3.8.8"
  }
 },
 "nbformat": 4,
 "nbformat_minor": 5
}
